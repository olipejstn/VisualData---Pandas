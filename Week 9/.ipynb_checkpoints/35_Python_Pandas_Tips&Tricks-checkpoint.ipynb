{
 "cells": [
  {
   "cell_type": "markdown",
   "id": "84766deb",
   "metadata": {},
   "source": [
    "# 35: Memadukan fungsi agregasi dengan transform()"
   ]
  },
  {
   "cell_type": "markdown",
   "id": "326c2e64",
   "metadata": {},
   "source": [
    "2273001 - Olivia Justine Audia"
   ]
  },
  {
   "cell_type": "markdown",
   "id": "75633dee",
   "metadata": {},
   "source": [
    "Import Modules"
   ]
  },
  {
   "cell_type": "code",
   "execution_count": null,
   "id": "42082dba",
   "metadata": {},
   "outputs": [],
   "source": [
    "import pandas as pd\n",
    "\n",
    "print(pd.__version__)"
   ]
  },
  {
   "cell_type": "markdown",
   "id": "f70389af",
   "metadata": {},
   "source": [
    "Persiapan Data Frame"
   ]
  },
  {
   "cell_type": "code",
   "execution_count": null,
   "id": "954fca2b",
   "metadata": {},
   "outputs": [],
   "source": [
    "d = {'no_nota':[1, 1, 1, 2, 2, 3, 4, 5], \n",
    "     'kopi': ['latte', 'cappuccino', 'espresso', 'latte', 'espresso', 'cappuccino', 'latte', 'espresso'],\n",
    "     'harga':[50, 60, 80, 150, 120, 60, 100, 40]}\n",
    "\n",
    "df = pd.DataFrame(d)\n",
    "df"
   ]
  },
  {
   "cell_type": "markdown",
   "id": "57047957",
   "metadata": {},
   "source": [
    "Menghitung total harga untuk tiap nomor nota"
   ]
  },
  {
   "cell_type": "code",
   "execution_count": null,
   "id": "d8fc5e61",
   "metadata": {},
   "outputs": [],
   "source": [
    "df.groupby('no_nota')['harga'].sum().to_frame()"
   ]
  },
  {
   "cell_type": "code",
   "execution_count": null,
   "id": "7177a11b",
   "metadata": {},
   "outputs": [],
   "source": [
    "df['total_harga'] = df.groupby('no_nota')['harga'].transform(sum)\n",
    "df"
   ]
  },
  {
   "cell_type": "markdown",
   "id": "bbe5e727",
   "metadata": {},
   "source": [
    "Menghitung total omset untuk tiap jenis kopi yang terjual"
   ]
  },
  {
   "cell_type": "code",
   "execution_count": null,
   "id": "f981c37d",
   "metadata": {},
   "outputs": [],
   "source": [
    "df.groupby('kopi')['harga'].sum().to_frame()"
   ]
  },
  {
   "cell_type": "code",
   "execution_count": null,
   "id": "6b5786db",
   "metadata": {},
   "outputs": [],
   "source": [
    "df['total_omset'] = df.groupby('kopi')['harga'].transform(sum)\n",
    "df"
   ]
  }
 ],
 "metadata": {
  "kernelspec": {
   "display_name": "Python 3 (ipykernel)",
   "language": "python",
   "name": "python3"
  },
  "language_info": {
   "codemirror_mode": {
    "name": "ipython",
    "version": 3
   },
   "file_extension": ".py",
   "mimetype": "text/x-python",
   "name": "python",
   "nbconvert_exporter": "python",
   "pygments_lexer": "ipython3",
   "version": "3.9.13"
  }
 },
 "nbformat": 4,
 "nbformat_minor": 5
}
