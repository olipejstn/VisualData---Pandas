{
 "cells": [
  {
   "cell_type": "markdown",
   "id": "26bcd7af",
   "metadata": {},
   "source": [
    "# 36: Menyatukan kolom dengan str.cat()"
   ]
  },
  {
   "cell_type": "markdown",
   "id": "264727bf",
   "metadata": {},
   "source": [
    "2273001 - Olivia Justine Audia"
   ]
  },
  {
   "cell_type": "markdown",
   "id": "61849cc8",
   "metadata": {},
   "source": [
    "Import Modules"
   ]
  },
  {
   "cell_type": "code",
   "execution_count": null,
   "id": "19f1b9ca",
   "metadata": {},
   "outputs": [],
   "source": [
    "import pandas as pd\n",
    "\n",
    "print(pd.__version__)"
   ]
  },
  {
   "cell_type": "markdown",
   "id": "0a6f814c",
   "metadata": {},
   "source": [
    "Persiapan Data Frame"
   ]
  },
  {
   "cell_type": "code",
   "execution_count": null,
   "id": "b5a2b019",
   "metadata": {},
   "outputs": [],
   "source": [
    "data = {'nama': ['bayu', 'indra', 'devi', 'agni'],\n",
    "        'jenis_kelamin': ['L', 'L', 'P', 'L'], \n",
    "        'usia': [23, 21, 22, 25]}\n",
    "\n",
    "df = pd.DataFrame(data)\n",
    "df"
   ]
  },
  {
   "cell_type": "markdown",
   "id": "3532c276",
   "metadata": {},
   "source": [
    "Menyatukan kolom dengan str.cat()"
   ]
  },
  {
   "cell_type": "code",
   "execution_count": null,
   "id": "cd682fcd",
   "metadata": {},
   "outputs": [],
   "source": [
    "df['nama'].str.cat(df['jenis_kelamin'], sep=', ').to_frame()"
   ]
  },
  {
   "cell_type": "code",
   "execution_count": null,
   "id": "68ae26a2",
   "metadata": {},
   "outputs": [],
   "source": [
    "df['nama_jk'] = df['nama'].str.cat(df['jenis_kelamin'], sep=', ')\n",
    "df"
   ]
  },
  {
   "cell_type": "code",
   "execution_count": null,
   "id": "2716d3a9",
   "metadata": {},
   "outputs": [],
   "source": [
    "df['nama'].str.cat(df['usia'].astype('str'), sep=' - ').to_frame()"
   ]
  },
  {
   "cell_type": "code",
   "execution_count": null,
   "id": "7fe43455",
   "metadata": {},
   "outputs": [],
   "source": [
    "df['nama_usia'] = df['nama'].str.cat(df['usia'].astype('str'), sep=' - ')\n",
    "df"
   ]
  }
 ],
 "metadata": {
  "kernelspec": {
   "display_name": "Python 3 (ipykernel)",
   "language": "python",
   "name": "python3"
  },
  "language_info": {
   "codemirror_mode": {
    "name": "ipython",
    "version": 3
   },
   "file_extension": ".py",
   "mimetype": "text/x-python",
   "name": "python",
   "nbconvert_exporter": "python",
   "pygments_lexer": "ipython3",
   "version": "3.9.13"
  }
 },
 "nbformat": 4,
 "nbformat_minor": 5
}
