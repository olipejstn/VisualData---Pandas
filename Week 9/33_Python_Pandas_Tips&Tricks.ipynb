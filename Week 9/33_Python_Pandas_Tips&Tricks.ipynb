{
 "cells": [
  {
   "cell_type": "markdown",
   "id": "63cf5a2e",
   "metadata": {
    "slideshow": {
     "slide_type": "slide"
    }
   },
   "source": [
    "# 33: Menampilkan nilai kumulatif (cummulative)"
   ]
  },
  {
   "cell_type": "markdown",
   "id": "c3d06b8c",
   "metadata": {
    "slideshow": {
     "slide_type": "slide"
    }
   },
   "source": [
    "2273001 - Olivia Justine Audia"
   ]
  },
  {
   "cell_type": "markdown",
   "id": "bbf30f95",
   "metadata": {},
   "source": [
    "Import Modules"
   ]
  },
  {
   "cell_type": "code",
   "execution_count": null,
   "id": "f45384b2",
   "metadata": {},
   "outputs": [],
   "source": [
    "import pandas as pd\n",
    "\n",
    "print(pd.__version__)"
   ]
  },
  {
   "cell_type": "markdown",
   "id": "c2ffc7b2",
   "metadata": {},
   "source": [
    "Persiapan Data Frame"
   ]
  },
  {
   "cell_type": "code",
   "execution_count": null,
   "id": "27b109b1",
   "metadata": {},
   "outputs": [],
   "source": [
    "d = {'pemain':['Budi', 'Joni', 'Iwan', 'Budi', 'Budi', 'Iwan', 'Asep', 'Joni'], \n",
    "     'goal':[2, 1, 3, 1, 1, 2, 2, 3]}\n",
    "df = pd.DataFrame(d)\n",
    "df"
   ]
  },
  {
   "cell_type": "markdown",
   "id": "0340884b",
   "metadata": {},
   "source": [
    "Menampilkan nilai kumulatif (cummulative)"
   ]
  },
  {
   "cell_type": "code",
   "execution_count": null,
   "id": "fde5209a",
   "metadata": {},
   "outputs": [],
   "source": [
    "df['goal'].cumsum().to_frame()"
   ]
  },
  {
   "cell_type": "code",
   "execution_count": null,
   "id": "eeb05940",
   "metadata": {},
   "outputs": [],
   "source": [
    "df['jumlah_goal_kumulatif'] = df['goal'].cumsum()\n",
    "df"
   ]
  },
  {
   "cell_type": "code",
   "execution_count": null,
   "id": "48879a90",
   "metadata": {},
   "outputs": [],
   "source": [
    "df['jumlah_goal_kumulatif_tiap_pemain'] = df.groupby('pemain')['goal'].cumsum()\n",
    "df"
   ]
  },
  {
   "cell_type": "code",
   "execution_count": null,
   "id": "66aece1b",
   "metadata": {},
   "outputs": [],
   "source": [
    "df['cummax'] = df['goal'].cummax()\n",
    "df"
   ]
  },
  {
   "cell_type": "code",
   "execution_count": null,
   "id": "1f225276",
   "metadata": {},
   "outputs": [],
   "source": [
    "df['cummin'] = df['goal'].cummin()\n",
    "df"
   ]
  },
  {
   "cell_type": "code",
   "execution_count": null,
   "id": "efc7f4cf",
   "metadata": {},
   "outputs": [],
   "source": [
    "df['cumprod'] = df['goal'].cumprod()\n",
    "df"
   ]
  }
 ],
 "metadata": {
  "celltoolbar": "Slideshow",
  "kernelspec": {
   "display_name": "Python 3 (ipykernel)",
   "language": "python",
   "name": "python3"
  },
  "language_info": {
   "codemirror_mode": {
    "name": "ipython",
    "version": 3
   },
   "file_extension": ".py",
   "mimetype": "text/x-python",
   "name": "python",
   "nbconvert_exporter": "python",
   "pygments_lexer": "ipython3",
   "version": "3.9.13"
  }
 },
 "nbformat": 4,
 "nbformat_minor": 5
}
