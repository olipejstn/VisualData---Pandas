{
 "cells": [
  {
   "cell_type": "markdown",
   "id": "d824c460",
   "metadata": {},
   "source": [
    "# 48: Mengenal Cummulative Count dengan cumcount()"
   ]
  },
  {
   "cell_type": "markdown",
   "id": "35e624d9",
   "metadata": {},
   "source": [
    "2273001 - Olivia Justine Audia"
   ]
  },
  {
   "cell_type": "markdown",
   "id": "6bc03a05",
   "metadata": {},
   "source": [
    "Import Modules"
   ]
  },
  {
   "cell_type": "code",
   "execution_count": null,
   "id": "1745f2dd",
   "metadata": {},
   "outputs": [],
   "source": [
    "import pandas as pd\n",
    "\n",
    "print(pd.__version__)"
   ]
  },
  {
   "cell_type": "markdown",
   "id": "d6a6c00a",
   "metadata": {},
   "source": [
    "Persiapan Data Frame"
   ]
  },
  {
   "cell_type": "code",
   "execution_count": null,
   "id": "4b01e124",
   "metadata": {},
   "outputs": [],
   "source": [
    "d = {'penjual':['bejo', 'tejo', 'wati', 'bejo', 'cecep', 'tejo', 'wati', 'bejo'], \n",
    "     'barang':['monitor', 'monitor', 'keyboard', 'mouse', 'keyboard', 'monitor', 'laptop', 'monitor']}\n",
    "\n",
    "df = pd.DataFrame(d)\n",
    "df"
   ]
  },
  {
   "cell_type": "markdown",
   "id": "57753c25",
   "metadata": {},
   "source": [
    "Mengenal Cummulative Count dengan cumcount()"
   ]
  },
  {
   "cell_type": "code",
   "execution_count": null,
   "id": "ae5c98d0",
   "metadata": {},
   "outputs": [],
   "source": [
    "df['count_tiap_penjual'] = df.groupby('penjual').cumcount() + 1\n",
    "df"
   ]
  },
  {
   "cell_type": "code",
   "execution_count": null,
   "id": "7f22f772",
   "metadata": {},
   "outputs": [],
   "source": [
    "df['count_tiap_barang'] = df.groupby('barang').cumcount() + 1\n",
    "df"
   ]
  },
  {
   "cell_type": "code",
   "execution_count": null,
   "id": "cb534235",
   "metadata": {},
   "outputs": [],
   "source": [
    "df['count_pasangan_kolom'] = df.groupby(['penjual', 'barang']).cumcount() + 1\n",
    "df"
   ]
  }
 ],
 "metadata": {
  "kernelspec": {
   "display_name": "Python 3 (ipykernel)",
   "language": "python",
   "name": "python3"
  },
  "language_info": {
   "codemirror_mode": {
    "name": "ipython",
    "version": 3
   },
   "file_extension": ".py",
   "mimetype": "text/x-python",
   "name": "python",
   "nbconvert_exporter": "python",
   "pygments_lexer": "ipython3",
   "version": "3.9.13"
  }
 },
 "nbformat": 4,
 "nbformat_minor": 5
}
