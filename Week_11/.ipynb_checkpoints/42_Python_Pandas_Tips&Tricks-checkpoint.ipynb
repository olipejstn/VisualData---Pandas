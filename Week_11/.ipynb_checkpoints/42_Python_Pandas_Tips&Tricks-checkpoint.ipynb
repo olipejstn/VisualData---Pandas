{
 "cells": [
  {
   "cell_type": "markdown",
   "id": "4b959cb5",
   "metadata": {},
   "source": [
    "# 42: Mengurutkan data berdasarkan kolom tertentu"
   ]
  },
  {
   "cell_type": "markdown",
   "id": "f020313d",
   "metadata": {},
   "source": [
    "2273001 - Olivia Justine Audia"
   ]
  },
  {
   "cell_type": "markdown",
   "id": "4ceed655",
   "metadata": {},
   "source": [
    "Import Modules"
   ]
  },
  {
   "cell_type": "code",
   "execution_count": null,
   "id": "41f6b8bd",
   "metadata": {},
   "outputs": [],
   "source": [
    "import pandas as pd\n",
    "\n",
    "print(pd.__version__)"
   ]
  },
  {
   "cell_type": "markdown",
   "id": "471bb130",
   "metadata": {},
   "source": [
    "Persiapan Data Frame"
   ]
  },
  {
   "cell_type": "code",
   "execution_count": null,
   "id": "00866f36",
   "metadata": {},
   "outputs": [],
   "source": [
    "df = pd.read_csv('./data/titanicfull.csv')\n",
    "df.head()"
   ]
  },
  {
   "cell_type": "markdown",
   "id": "19f7f383",
   "metadata": {},
   "source": [
    "Mengurutkan data berdasarkan kolom tertentu"
   ]
  },
  {
   "cell_type": "code",
   "execution_count": null,
   "id": "380e9fdd",
   "metadata": {},
   "outputs": [],
   "source": [
    "df.sort_values('age').head()"
   ]
  },
  {
   "cell_type": "code",
   "execution_count": null,
   "id": "5258f0e7",
   "metadata": {},
   "outputs": [],
   "source": [
    "df.sort_values('age', ascending=False).head()"
   ]
  },
  {
   "cell_type": "code",
   "execution_count": null,
   "id": "eeae09f7",
   "metadata": {},
   "outputs": [],
   "source": [
    "df.sort_values(['survived', 'age']).head()"
   ]
  }
 ],
 "metadata": {
  "kernelspec": {
   "display_name": "Python 3 (ipykernel)",
   "language": "python",
   "name": "python3"
  },
  "language_info": {
   "codemirror_mode": {
    "name": "ipython",
    "version": 3
   },
   "file_extension": ".py",
   "mimetype": "text/x-python",
   "name": "python",
   "nbconvert_exporter": "python",
   "pygments_lexer": "ipython3",
   "version": "3.9.13"
  }
 },
 "nbformat": 4,
 "nbformat_minor": 5
}
