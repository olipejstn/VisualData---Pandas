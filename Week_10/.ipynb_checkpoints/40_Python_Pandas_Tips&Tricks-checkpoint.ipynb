{
 "cells": [
  {
   "cell_type": "markdown",
   "id": "7a181922",
   "metadata": {},
   "source": [
    "# 40: Mengakses sekelompok data dengan get_group()"
   ]
  },
  {
   "cell_type": "markdown",
   "id": "7625f06a",
   "metadata": {},
   "source": [
    "2273001 - Olivia Justine Audia"
   ]
  },
  {
   "cell_type": "markdown",
   "id": "63daedd0",
   "metadata": {},
   "source": [
    "Import Modules"
   ]
  },
  {
   "cell_type": "code",
   "execution_count": null,
   "id": "d1f684f6",
   "metadata": {},
   "outputs": [],
   "source": [
    "import pandas as pd\n",
    "\n",
    "print(pd.__version__)"
   ]
  },
  {
   "cell_type": "markdown",
   "id": "64b6bb6e",
   "metadata": {},
   "source": [
    "Persiapan Data Frame"
   ]
  },
  {
   "cell_type": "code",
   "execution_count": null,
   "id": "eb80156f",
   "metadata": {},
   "outputs": [],
   "source": [
    "df = pd.read_csv('./data/titanicfull.csv')\n",
    "df.head()"
   ]
  },
  {
   "cell_type": "markdown",
   "id": "85ca5789",
   "metadata": {},
   "source": [
    "Mengakses sekelompok data yang sudah terkelompok dengan get_group()"
   ]
  },
  {
   "cell_type": "code",
   "execution_count": null,
   "id": "19c3c83f",
   "metadata": {},
   "outputs": [],
   "source": [
    "grouped_df = df.groupby('sex')"
   ]
  },
  {
   "cell_type": "code",
   "execution_count": null,
   "id": "f8e70366",
   "metadata": {},
   "outputs": [],
   "source": [
    "grouped_df.get_group('female').head(10)"
   ]
  },
  {
   "cell_type": "code",
   "execution_count": null,
   "id": "6e4a2fec",
   "metadata": {},
   "outputs": [],
   "source": [
    "grouped_df = df.groupby('survived')"
   ]
  },
  {
   "cell_type": "code",
   "execution_count": null,
   "id": "77a78198",
   "metadata": {},
   "outputs": [],
   "source": [
    "grouped_df.get_group(1).head(10)"
   ]
  }
 ],
 "metadata": {
  "kernelspec": {
   "display_name": "Python 3 (ipykernel)",
   "language": "python",
   "name": "python3"
  },
  "language_info": {
   "codemirror_mode": {
    "name": "ipython",
    "version": 3
   },
   "file_extension": ".py",
   "mimetype": "text/x-python",
   "name": "python",
   "nbconvert_exporter": "python",
   "pygments_lexer": "ipython3",
   "version": "3.9.13"
  }
 },
 "nbformat": 4,
 "nbformat_minor": 5
}
